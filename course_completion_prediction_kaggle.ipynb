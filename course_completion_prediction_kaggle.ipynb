{
  "nbformat": 4,
  "nbformat_minor": 0,
  "metadata": {
    "colab": {
      "name": "course-completion-prediction-kaggle.ipynb",
      "provenance": [],
      "collapsed_sections": []
    },
    "kernelspec": {
      "name": "python3",
      "display_name": "Python 3"
    }
  },
  "cells": [
    {
      "cell_type": "markdown",
      "metadata": {
        "id": "dZy8YK5PV-Kk"
      },
      "source": [
        "\n",
        "# Course Completion Prediction (On Kaggle)\n",
        "##CSE 416 Introduction to Machine Learning \n",
        "##Assignment 5 \n",
        "\n",
        "Sophia He \n",
        "\n",
        "July 28, 2020"
      ]
    },
    {
      "cell_type": "markdown",
      "metadata": {
        "id": "PFYlFCG8T1fg"
      },
      "source": [
        "This is a course-wide competition on Kaggle for CSE 416 at the University of Washington, via https://www.kaggle.com/c/cse-stat-416-sum-20/data. The objective is to investigate edX (anonymized) student data to try to predict whether a student received a certification (completed) a course. In this iPython Notebook, I explain my methods for data investigation, feature selection, and model training and evaluation."
      ]
    },
    {
      "cell_type": "code",
      "metadata": {
        "id": "O1zCKmFiVf8T"
      },
      "source": [
        "import requests\n",
        "\n",
        "def save_file(url, file_name):\n",
        "    r = requests.get(url)\n",
        "    with open(file_name, 'wb') as f:\n",
        "        f.write(r.content)\n",
        "    \n",
        "save_file('https://homes.cs.washington.edu/~vinitra/cse416/a5/edx_train.csv', 'edx_train.csv') \n",
        "save_file('https://homes.cs.washington.edu/~vinitra/cse416/a5/edx_test.csv', 'edx_test.csv')"
      ],
      "execution_count": null,
      "outputs": []
    },
    {
      "cell_type": "code",
      "metadata": {
        "id": "6RLtBP88V6kQ"
      },
      "source": [
        "import warnings\n",
        "\n",
        "import matplotlib.pyplot as plt # for graphing\n",
        "import numpy as np\n",
        "import pandas as pd\n",
        "import seaborn as sns\n",
        "from mpl_toolkits.mplot3d import Axes3D\n",
        "\n",
        "%matplotlib inline\n",
        "warnings.filterwarnings('ignore')\n",
        "sns.set()"
      ],
      "execution_count": null,
      "outputs": []
    },
    {
      "cell_type": "markdown",
      "metadata": {
        "id": "5imyOgv7Z6GB"
      },
      "source": [
        "# Investigate Data\n",
        "\n",
        "I started out by importing the test and train data and looking at the train data. I verified that the training data has an extra 'certified' feature that the test data does not have, which will be the target."
      ]
    },
    {
      "cell_type": "code",
      "metadata": {
        "id": "8I_EjG5MZ5Xc",
        "colab": {
          "base_uri": "https://localhost:8080/",
          "height": 72
        },
        "outputId": "8dbd7968-2870-4053-ab1d-049e8864ca37"
      },
      "source": [
        "edx_data = pd.read_csv('edx_train.csv')\n",
        "edx_test = pd.read_csv('edx_test.csv')    # csv file with only features\n",
        "print(list(edx_data.columns))\n",
        "\n",
        "print(list(edx_test.columns))"
      ],
      "execution_count": null,
      "outputs": [
        {
          "output_type": "stream",
          "text": [
            "['course_id', 'userid_DI', 'registered', 'viewed', 'explored', 'certified', 'final_cc_cname_DI', 'LoE_DI', 'YoB', 'gender', 'start_time_DI', 'last_event_DI', 'nevents', 'ndays_act', 'nplay_video', 'nchapters', 'nforum_posts']\n",
            "['course_id', 'userid_DI', 'registered', 'viewed', 'explored', 'final_cc_cname_DI', 'LoE_DI', 'YoB', 'gender', 'start_time_DI', 'last_event_DI', 'nevents', 'ndays_act', 'nplay_video', 'nchapters', 'nforum_posts']\n"
          ],
          "name": "stdout"
        }
      ]
    },
    {
      "cell_type": "code",
      "metadata": {
        "id": "eIi2hDvKaSTX",
        "colab": {
          "base_uri": "https://localhost:8080/",
          "height": 217
        },
        "outputId": "4b076710-a7f3-45ae-95e8-d5ea7aa9d452"
      },
      "source": [
        "edx_data.head()"
      ],
      "execution_count": null,
      "outputs": [
        {
          "output_type": "execute_result",
          "data": {
            "text/html": [
              "<div>\n",
              "<style scoped>\n",
              "    .dataframe tbody tr th:only-of-type {\n",
              "        vertical-align: middle;\n",
              "    }\n",
              "\n",
              "    .dataframe tbody tr th {\n",
              "        vertical-align: top;\n",
              "    }\n",
              "\n",
              "    .dataframe thead th {\n",
              "        text-align: right;\n",
              "    }\n",
              "</style>\n",
              "<table border=\"1\" class=\"dataframe\">\n",
              "  <thead>\n",
              "    <tr style=\"text-align: right;\">\n",
              "      <th></th>\n",
              "      <th>course_id</th>\n",
              "      <th>userid_DI</th>\n",
              "      <th>registered</th>\n",
              "      <th>viewed</th>\n",
              "      <th>explored</th>\n",
              "      <th>certified</th>\n",
              "      <th>final_cc_cname_DI</th>\n",
              "      <th>LoE_DI</th>\n",
              "      <th>YoB</th>\n",
              "      <th>gender</th>\n",
              "      <th>start_time_DI</th>\n",
              "      <th>last_event_DI</th>\n",
              "      <th>nevents</th>\n",
              "      <th>ndays_act</th>\n",
              "      <th>nplay_video</th>\n",
              "      <th>nchapters</th>\n",
              "      <th>nforum_posts</th>\n",
              "    </tr>\n",
              "  </thead>\n",
              "  <tbody>\n",
              "    <tr>\n",
              "      <th>0</th>\n",
              "      <td>HarvardX/CS50x/2012</td>\n",
              "      <td>MHxPC130288921</td>\n",
              "      <td>1</td>\n",
              "      <td>0</td>\n",
              "      <td>0</td>\n",
              "      <td>0</td>\n",
              "      <td>Unknown/Other</td>\n",
              "      <td>Bachelor's</td>\n",
              "      <td>1988.0</td>\n",
              "      <td>m</td>\n",
              "      <td>8/30/12</td>\n",
              "      <td>unk</td>\n",
              "      <td>0.0</td>\n",
              "      <td>0.0</td>\n",
              "      <td>0.0</td>\n",
              "      <td>0.0</td>\n",
              "      <td>0</td>\n",
              "    </tr>\n",
              "    <tr>\n",
              "      <th>1</th>\n",
              "      <td>HarvardX/PH207x/2012_Fall</td>\n",
              "      <td>MHxPC130043703</td>\n",
              "      <td>1</td>\n",
              "      <td>1</td>\n",
              "      <td>1</td>\n",
              "      <td>1</td>\n",
              "      <td>India</td>\n",
              "      <td>Doctorate</td>\n",
              "      <td>1970.0</td>\n",
              "      <td>m</td>\n",
              "      <td>9/4/12</td>\n",
              "      <td>1/16/13</td>\n",
              "      <td>2550.0</td>\n",
              "      <td>21.0</td>\n",
              "      <td>10.0</td>\n",
              "      <td>14.0</td>\n",
              "      <td>0</td>\n",
              "    </tr>\n",
              "    <tr>\n",
              "      <th>2</th>\n",
              "      <td>HarvardX/CS50x/2012</td>\n",
              "      <td>MHxPC130082773</td>\n",
              "      <td>1</td>\n",
              "      <td>1</td>\n",
              "      <td>0</td>\n",
              "      <td>0</td>\n",
              "      <td>United States</td>\n",
              "      <td>Master's</td>\n",
              "      <td>1983.0</td>\n",
              "      <td>m</td>\n",
              "      <td>2/12/13</td>\n",
              "      <td>2/12/13</td>\n",
              "      <td>10.0</td>\n",
              "      <td>1.0</td>\n",
              "      <td>0.0</td>\n",
              "      <td>1.0</td>\n",
              "      <td>0</td>\n",
              "    </tr>\n",
              "    <tr>\n",
              "      <th>3</th>\n",
              "      <td>HarvardX/PH207x/2012_Fall</td>\n",
              "      <td>MHxPC130186614</td>\n",
              "      <td>1</td>\n",
              "      <td>1</td>\n",
              "      <td>1</td>\n",
              "      <td>1</td>\n",
              "      <td>Other Africa</td>\n",
              "      <td>Bachelor's</td>\n",
              "      <td>1984.0</td>\n",
              "      <td>m</td>\n",
              "      <td>10/16/12</td>\n",
              "      <td>1/15/13</td>\n",
              "      <td>6015.0</td>\n",
              "      <td>50.0</td>\n",
              "      <td>616.0</td>\n",
              "      <td>15.0</td>\n",
              "      <td>0</td>\n",
              "    </tr>\n",
              "    <tr>\n",
              "      <th>4</th>\n",
              "      <td>HarvardX/CS50x/2012</td>\n",
              "      <td>MHxPC130113075</td>\n",
              "      <td>1</td>\n",
              "      <td>1</td>\n",
              "      <td>0</td>\n",
              "      <td>0</td>\n",
              "      <td>United States</td>\n",
              "      <td>Secondary</td>\n",
              "      <td>1997.0</td>\n",
              "      <td>m</td>\n",
              "      <td>4/11/13</td>\n",
              "      <td>4/12/13</td>\n",
              "      <td>6.0</td>\n",
              "      <td>2.0</td>\n",
              "      <td>0.0</td>\n",
              "      <td>1.0</td>\n",
              "      <td>0</td>\n",
              "    </tr>\n",
              "  </tbody>\n",
              "</table>\n",
              "</div>"
            ],
            "text/plain": [
              "                   course_id       userid_DI  ...  nchapters  nforum_posts\n",
              "0        HarvardX/CS50x/2012  MHxPC130288921  ...        0.0             0\n",
              "1  HarvardX/PH207x/2012_Fall  MHxPC130043703  ...       14.0             0\n",
              "2        HarvardX/CS50x/2012  MHxPC130082773  ...        1.0             0\n",
              "3  HarvardX/PH207x/2012_Fall  MHxPC130186614  ...       15.0             0\n",
              "4        HarvardX/CS50x/2012  MHxPC130113075  ...        1.0             0\n",
              "\n",
              "[5 rows x 17 columns]"
            ]
          },
          "metadata": {
            "tags": []
          },
          "execution_count": 1244
        }
      ]
    },
    {
      "cell_type": "markdown",
      "metadata": {
        "id": "qMxCEcPdeopO"
      },
      "source": [
        "I then looked at distribution plots for a couple of features in the training data, to better visualize the data categories."
      ]
    },
    {
      "cell_type": "code",
      "metadata": {
        "id": "Hhb2ZgHJaoUd",
        "colab": {
          "base_uri": "https://localhost:8080/",
          "height": 302
        },
        "outputId": "8d0181d1-630f-4d06-ce20-6af779aacd74"
      },
      "source": [
        "sns.countplot(x='gender', data=edx_data, order=sorted(edx_data['gender'].unique()))"
      ],
      "execution_count": null,
      "outputs": [
        {
          "output_type": "execute_result",
          "data": {
            "text/plain": [
              "<matplotlib.axes._subplots.AxesSubplot at 0x7fae4c5b9e48>"
            ]
          },
          "metadata": {
            "tags": []
          },
          "execution_count": 1245
        },
        {
          "output_type": "display_data",
          "data": {
            "image/png": "[encoded data removed]",
            "text/plain": [
              "<Figure size 432x288 with 1 Axes>"
            ]
          },
          "metadata": {
            "tags": []
          }
        }
      ]
    },
    {
      "cell_type": "code",
      "metadata": {
        "id": "FsiIjPQ3eXK4",
        "colab": {
          "base_uri": "https://localhost:8080/",
          "height": 302
        },
        "outputId": "547d2b81-dcb8-4b81-f5a2-845f5d2f9320"
      },
      "source": [
        "sns.countplot(x='viewed', data=edx_data, order=sorted(edx_data['viewed'].unique()))"
      ],
      "execution_count": null,
      "outputs": [
        {
          "output_type": "execute_result",
          "data": {
            "text/plain": [
              "<matplotlib.axes._subplots.AxesSubplot at 0x7fae4c0bb710>"
            ]
          },
          "metadata": {
            "tags": []
          },
          "execution_count": 1246
        },
        {
          "output_type": "display_data",
          "data": {
            "image/png": "[encoded data removed]",
            "text/plain": [
              "<Figure size 432x288 with 1 Axes>"
            ]
          },
          "metadata": {
            "tags": []
          }
        }
      ]
    },
    {
      "cell_type": "markdown",
      "metadata": {
        "id": "ZPGk3ra_fhoj"
      },
      "source": [
        "In the training data, I looked at the split between certified and not certified, in the column of the target feature."
      ]
    },
    {
      "cell_type": "code",
      "metadata": {
        "id": "_IDQMmHUdJVW",
        "colab": {
          "base_uri": "https://localhost:8080/",
          "height": 52
        },
        "outputId": "d3d5d913-8cdd-438d-875f-ac9ca53f1869"
      },
      "source": [
        "only_certified = edx_data[edx_data['certified'] == 1]\n",
        "only_not_certified = edx_data[edx_data['certified'] == 0]\n",
        "\n",
        "print(f'Number certified: {len(only_certified)} ({len(only_certified) * 100.0 / len(edx_data):.2f}%)')\n",
        "print(f'Number not certified: {len(only_not_certified)} ({len(only_not_certified) * 100.0 / len(edx_data):.2f}%)')"
      ],
      "execution_count": null,
      "outputs": [
        {
          "output_type": "stream",
          "text": [
            "Number certified: 3826 (43.69%)\n",
            "Number not certified: 4932 (56.31%)\n"
          ],
          "name": "stdout"
        }
      ]
    },
    {
      "cell_type": "markdown",
      "metadata": {
        "id": "mabrKq8hf1TO"
      },
      "source": [
        "# Feature Selection"
      ]
    },
    {
      "cell_type": "markdown",
      "metadata": {
        "id": "_kyMyAkPfyOJ"
      },
      "source": [
        "To start off with feature selection, I listed all the features in the training data."
      ]
    },
    {
      "cell_type": "code",
      "metadata": {
        "id": "bX3mVGCEpNsz",
        "colab": {
          "base_uri": "https://localhost:8080/",
          "height": 318
        },
        "outputId": "fbcbc74c-a8da-45cb-ff90-ee9b1053157d"
      },
      "source": [
        "list(edx_data.columns)"
      ],
      "execution_count": null,
      "outputs": [
        {
          "output_type": "execute_result",
          "data": {
            "text/plain": [
              "['course_id',\n",
              " 'userid_DI',\n",
              " 'registered',\n",
              " 'viewed',\n",
              " 'explored',\n",
              " 'certified',\n",
              " 'final_cc_cname_DI',\n",
              " 'LoE_DI',\n",
              " 'YoB',\n",
              " 'gender',\n",
              " 'start_time_DI',\n",
              " 'last_event_DI',\n",
              " 'nevents',\n",
              " 'ndays_act',\n",
              " 'nplay_video',\n",
              " 'nchapters',\n",
              " 'nforum_posts']"
            ]
          },
          "metadata": {
            "tags": []
          },
          "execution_count": 1248
        }
      ]
    },
    {
      "cell_type": "markdown",
      "metadata": {
        "id": "ZjHi6yopgG8a"
      },
      "source": [
        "Following, I defined a features array (shown below) and commented out the features to exclude. Initially, the only features excluded were 'userid_DI' (as suggested on the Kaggle page), as well as 'start_time_DI' because of the high variation from date to date (too many categories) and 'last_event_DI' for the same reason, as well as because nevents already gave a metric related to interaction with the course. \n",
        "\n",
        "After creating my first model (a decision tree) I came back and commented out two other features that were negatively impacting accuracy, 'final_cc_cname_DI' and 'LoE_DI'.\n",
        "\n",
        "I chose not to reformat the data and keep the 'unk' and -1 representing unknowns as is because for many features there was no way to average them or find an appropriate way to recategorize them (such as with gender). I did not want to place any assumptions that would mis-categorize all unknowns for a feature and skew the data.\n",
        "\n",
        "I then tried three more models: Random Forest, AdaBoost, and K Nearest Neighbor. I compared the resulting validation accuracies from these three models with the decision tree with the max depth with the best accuracy, and I found that Random Forest resulted in the best accuracy overall. I then changed the features once more to attain the best possible Random Forest accuracy, resulting in the features you see below. The excluded features are commented out."
      ]
    },
    {
      "cell_type": "code",
      "metadata": {
        "id": "erhK2AD1ojz1",
        "colab": {
          "base_uri": "https://localhost:8080/",
          "height": 217
        },
        "outputId": "719bd8f6-8cb5-49a6-d1d7-2f9b24a7c1db"
      },
      "source": [
        "# Feature Set\n",
        "features = [  \n",
        "    'course_id',                # institution, course name, semester\n",
        "    #'userid_DI',               # id number\n",
        "    'registered',               # 0/1 registered for course = 1\n",
        "    'viewed',                   # 0/1 anyone  who accessed  the ‘Courseware’  tab \n",
        "    'explored',                 # 0/1;  anyone  who accessed  at  least half  of  the chapters\n",
        "    #'final_cc_cname_DI',       # country or continent/region\n",
        "    'LoE_DI',                  # user provided highest level of education\n",
        "    'YoB',                      # user provided year of birth\n",
        "    'gender',                   # user provided gender m, f, or o\n",
        "    #'start_time_DI',           # date of course registration\n",
        "    #'last_event_DI',           # date of last interaction with course\n",
        "    'nevents',                  # number of interactions with the course\n",
        "    'ndays_act',                # number of unique days student interacted with course\n",
        "    'nplay_video',              # number of play video  events within the course\n",
        "    'nchapters',                # number of chapters with which the student interacted\n",
        "    'nforum_posts',             # number of posts to the Discussion Forum. \n",
        "]\n",
        "\n",
        "\n",
        "target = 'certified'                   # prediction target (y) (1 means certified, 0 is not certified)\n",
        "\n",
        "# Extract the feature columns and target column\n",
        "edx_data = edx_data[features + [target]]\n",
        "edx_data.head()"
      ],
      "execution_count": null,
      "outputs": [
        {
          "output_type": "execute_result",
          "data": {
            "text/html": [
              "<div>\n",
              "<style scoped>\n",
              "    .dataframe tbody tr th:only-of-type {\n",
              "        vertical-align: middle;\n",
              "    }\n",
              "\n",
              "    .dataframe tbody tr th {\n",
              "        vertical-align: top;\n",
              "    }\n",
              "\n",
              "    .dataframe thead th {\n",
              "        text-align: right;\n",
              "    }\n",
              "</style>\n",
              "<table border=\"1\" class=\"dataframe\">\n",
              "  <thead>\n",
              "    <tr style=\"text-align: right;\">\n",
              "      <th></th>\n",
              "      <th>course_id</th>\n",
              "      <th>registered</th>\n",
              "      <th>viewed</th>\n",
              "      <th>explored</th>\n",
              "      <th>LoE_DI</th>\n",
              "      <th>YoB</th>\n",
              "      <th>gender</th>\n",
              "      <th>nevents</th>\n",
              "      <th>ndays_act</th>\n",
              "      <th>nplay_video</th>\n",
              "      <th>nchapters</th>\n",
              "      <th>nforum_posts</th>\n",
              "      <th>certified</th>\n",
              "    </tr>\n",
              "  </thead>\n",
              "  <tbody>\n",
              "    <tr>\n",
              "      <th>0</th>\n",
              "      <td>HarvardX/CS50x/2012</td>\n",
              "      <td>1</td>\n",
              "      <td>0</td>\n",
              "      <td>0</td>\n",
              "      <td>Bachelor's</td>\n",
              "      <td>1988.0</td>\n",
              "      <td>m</td>\n",
              "      <td>0.0</td>\n",
              "      <td>0.0</td>\n",
              "      <td>0.0</td>\n",
              "      <td>0.0</td>\n",
              "      <td>0</td>\n",
              "      <td>0</td>\n",
              "    </tr>\n",
              "    <tr>\n",
              "      <th>1</th>\n",
              "      <td>HarvardX/PH207x/2012_Fall</td>\n",
              "      <td>1</td>\n",
              "      <td>1</td>\n",
              "      <td>1</td>\n",
              "      <td>Doctorate</td>\n",
              "      <td>1970.0</td>\n",
              "      <td>m</td>\n",
              "      <td>2550.0</td>\n",
              "      <td>21.0</td>\n",
              "      <td>10.0</td>\n",
              "      <td>14.0</td>\n",
              "      <td>0</td>\n",
              "      <td>1</td>\n",
              "    </tr>\n",
              "    <tr>\n",
              "      <th>2</th>\n",
              "      <td>HarvardX/CS50x/2012</td>\n",
              "      <td>1</td>\n",
              "      <td>1</td>\n",
              "      <td>0</td>\n",
              "      <td>Master's</td>\n",
              "      <td>1983.0</td>\n",
              "      <td>m</td>\n",
              "      <td>10.0</td>\n",
              "      <td>1.0</td>\n",
              "      <td>0.0</td>\n",
              "      <td>1.0</td>\n",
              "      <td>0</td>\n",
              "      <td>0</td>\n",
              "    </tr>\n",
              "    <tr>\n",
              "      <th>3</th>\n",
              "      <td>HarvardX/PH207x/2012_Fall</td>\n",
              "      <td>1</td>\n",
              "      <td>1</td>\n",
              "      <td>1</td>\n",
              "      <td>Bachelor's</td>\n",
              "      <td>1984.0</td>\n",
              "      <td>m</td>\n",
              "      <td>6015.0</td>\n",
              "      <td>50.0</td>\n",
              "      <td>616.0</td>\n",
              "      <td>15.0</td>\n",
              "      <td>0</td>\n",
              "      <td>1</td>\n",
              "    </tr>\n",
              "    <tr>\n",
              "      <th>4</th>\n",
              "      <td>HarvardX/CS50x/2012</td>\n",
              "      <td>1</td>\n",
              "      <td>1</td>\n",
              "      <td>0</td>\n",
              "      <td>Secondary</td>\n",
              "      <td>1997.0</td>\n",
              "      <td>m</td>\n",
              "      <td>6.0</td>\n",
              "      <td>2.0</td>\n",
              "      <td>0.0</td>\n",
              "      <td>1.0</td>\n",
              "      <td>0</td>\n",
              "      <td>0</td>\n",
              "    </tr>\n",
              "  </tbody>\n",
              "</table>\n",
              "</div>"
            ],
            "text/plain": [
              "                   course_id  registered  ...  nforum_posts  certified\n",
              "0        HarvardX/CS50x/2012           1  ...             0          0\n",
              "1  HarvardX/PH207x/2012_Fall           1  ...             0          1\n",
              "2        HarvardX/CS50x/2012           1  ...             0          0\n",
              "3  HarvardX/PH207x/2012_Fall           1  ...             0          1\n",
              "4        HarvardX/CS50x/2012           1  ...             0          0\n",
              "\n",
              "[5 rows x 13 columns]"
            ]
          },
          "metadata": {
            "tags": []
          },
          "execution_count": 1249
        }
      ]
    },
    {
      "cell_type": "markdown",
      "metadata": {
        "id": "CUcKbGFGmOev"
      },
      "source": [
        "Because many categories had non-numerical data, for preprocessing I used one-hot encoding via the get_dummies() method; though it introduced sparsity into the dataset, it resulted in numerical values for the non-numerical categories."
      ]
    },
    {
      "cell_type": "code",
      "metadata": {
        "id": "7MhdACl8qOxS",
        "colab": {
          "base_uri": "https://localhost:8080/",
          "height": 425
        },
        "outputId": "38e4eca6-4ca0-4636-f5eb-44f5b495c8fe"
      },
      "source": [
        "edx_data = pd.get_dummies(edx_data)\n",
        "features = list(edx_data.columns)\n",
        "features.remove('certified')\n",
        "features"
      ],
      "execution_count": null,
      "outputs": [
        {
          "output_type": "execute_result",
          "data": {
            "text/plain": [
              "['registered',\n",
              " 'viewed',\n",
              " 'explored',\n",
              " 'YoB',\n",
              " 'nevents',\n",
              " 'ndays_act',\n",
              " 'nplay_video',\n",
              " 'nchapters',\n",
              " 'nforum_posts',\n",
              " 'course_id_HarvardX/CB22x/2013_Spring',\n",
              " 'course_id_HarvardX/CS50x/2012',\n",
              " 'course_id_HarvardX/ER22x/2013_Spring',\n",
              " 'course_id_HarvardX/PH207x/2012_Fall',\n",
              " 'course_id_HarvardX/PH278x/2013_Spring',\n",
              " \"LoE_DI_Bachelor's\",\n",
              " 'LoE_DI_Doctorate',\n",
              " 'LoE_DI_Less than Secondary',\n",
              " \"LoE_DI_Master's\",\n",
              " 'LoE_DI_Secondary',\n",
              " 'LoE_DI_unk',\n",
              " 'gender_f',\n",
              " 'gender_m',\n",
              " 'gender_unk']"
            ]
          },
          "metadata": {
            "tags": []
          },
          "execution_count": 1250
        }
      ]
    },
    {
      "cell_type": "code",
      "metadata": {
        "id": "mt7m6ijtryTF",
        "colab": {
          "base_uri": "https://localhost:8080/",
          "height": 251
        },
        "outputId": "1addd058-b42c-412e-e118-6d09b008b8d8"
      },
      "source": [
        "edx_data.head()"
      ],
      "execution_count": null,
      "outputs": [
        {
          "output_type": "execute_result",
          "data": {
            "text/html": [
              "<div>\n",
              "<style scoped>\n",
              "    .dataframe tbody tr th:only-of-type {\n",
              "        vertical-align: middle;\n",
              "    }\n",
              "\n",
              "    .dataframe tbody tr th {\n",
              "        vertical-align: top;\n",
              "    }\n",
              "\n",
              "    .dataframe thead th {\n",
              "        text-align: right;\n",
              "    }\n",
              "</style>\n",
              "<table border=\"1\" class=\"dataframe\">\n",
              "  <thead>\n",
              "    <tr style=\"text-align: right;\">\n",
              "      <th></th>\n",
              "      <th>registered</th>\n",
              "      <th>viewed</th>\n",
              "      <th>explored</th>\n",
              "      <th>YoB</th>\n",
              "      <th>nevents</th>\n",
              "      <th>ndays_act</th>\n",
              "      <th>nplay_video</th>\n",
              "      <th>nchapters</th>\n",
              "      <th>nforum_posts</th>\n",
              "      <th>certified</th>\n",
              "      <th>course_id_HarvardX/CB22x/2013_Spring</th>\n",
              "      <th>course_id_HarvardX/CS50x/2012</th>\n",
              "      <th>course_id_HarvardX/ER22x/2013_Spring</th>\n",
              "      <th>course_id_HarvardX/PH207x/2012_Fall</th>\n",
              "      <th>course_id_HarvardX/PH278x/2013_Spring</th>\n",
              "      <th>LoE_DI_Bachelor's</th>\n",
              "      <th>LoE_DI_Doctorate</th>\n",
              "      <th>LoE_DI_Less than Secondary</th>\n",
              "      <th>LoE_DI_Master's</th>\n",
              "      <th>LoE_DI_Secondary</th>\n",
              "      <th>LoE_DI_unk</th>\n",
              "      <th>gender_f</th>\n",
              "      <th>gender_m</th>\n",
              "      <th>gender_unk</th>\n",
              "    </tr>\n",
              "  </thead>\n",
              "  <tbody>\n",
              "    <tr>\n",
              "      <th>0</th>\n",
              "      <td>1</td>\n",
              "      <td>0</td>\n",
              "      <td>0</td>\n",
              "      <td>1988.0</td>\n",
              "      <td>0.0</td>\n",
              "      <td>0.0</td>\n",
              "      <td>0.0</td>\n",
              "      <td>0.0</td>\n",
              "      <td>0</td>\n",
              "      <td>0</td>\n",
              "      <td>0</td>\n",
              "      <td>1</td>\n",
              "      <td>0</td>\n",
              "      <td>0</td>\n",
              "      <td>0</td>\n",
              "      <td>1</td>\n",
              "      <td>0</td>\n",
              "      <td>0</td>\n",
              "      <td>0</td>\n",
              "      <td>0</td>\n",
              "      <td>0</td>\n",
              "      <td>0</td>\n",
              "      <td>1</td>\n",
              "      <td>0</td>\n",
              "    </tr>\n",
              "    <tr>\n",
              "      <th>1</th>\n",
              "      <td>1</td>\n",
              "      <td>1</td>\n",
              "      <td>1</td>\n",
              "      <td>1970.0</td>\n",
              "      <td>2550.0</td>\n",
              "      <td>21.0</td>\n",
              "      <td>10.0</td>\n",
              "      <td>14.0</td>\n",
              "      <td>0</td>\n",
              "      <td>1</td>\n",
              "      <td>0</td>\n",
              "      <td>0</td>\n",
              "      <td>0</td>\n",
              "      <td>1</td>\n",
              "      <td>0</td>\n",
              "      <td>0</td>\n",
              "      <td>1</td>\n",
              "      <td>0</td>\n",
              "      <td>0</td>\n",
              "      <td>0</td>\n",
              "      <td>0</td>\n",
              "      <td>0</td>\n",
              "      <td>1</td>\n",
              "      <td>0</td>\n",
              "    </tr>\n",
              "    <tr>\n",
              "      <th>2</th>\n",
              "      <td>1</td>\n",
              "      <td>1</td>\n",
              "      <td>0</td>\n",
              "      <td>1983.0</td>\n",
              "      <td>10.0</td>\n",
              "      <td>1.0</td>\n",
              "      <td>0.0</td>\n",
              "      <td>1.0</td>\n",
              "      <td>0</td>\n",
              "      <td>0</td>\n",
              "      <td>0</td>\n",
              "      <td>1</td>\n",
              "      <td>0</td>\n",
              "      <td>0</td>\n",
              "      <td>0</td>\n",
              "      <td>0</td>\n",
              "      <td>0</td>\n",
              "      <td>0</td>\n",
              "      <td>1</td>\n",
              "      <td>0</td>\n",
              "      <td>0</td>\n",
              "      <td>0</td>\n",
              "      <td>1</td>\n",
              "      <td>0</td>\n",
              "    </tr>\n",
              "    <tr>\n",
              "      <th>3</th>\n",
              "      <td>1</td>\n",
              "      <td>1</td>\n",
              "      <td>1</td>\n",
              "      <td>1984.0</td>\n",
              "      <td>6015.0</td>\n",
              "      <td>50.0</td>\n",
              "      <td>616.0</td>\n",
              "      <td>15.0</td>\n",
              "      <td>0</td>\n",
              "      <td>1</td>\n",
              "      <td>0</td>\n",
              "      <td>0</td>\n",
              "      <td>0</td>\n",
              "      <td>1</td>\n",
              "      <td>0</td>\n",
              "      <td>1</td>\n",
              "      <td>0</td>\n",
              "      <td>0</td>\n",
              "      <td>0</td>\n",
              "      <td>0</td>\n",
              "      <td>0</td>\n",
              "      <td>0</td>\n",
              "      <td>1</td>\n",
              "      <td>0</td>\n",
              "    </tr>\n",
              "    <tr>\n",
              "      <th>4</th>\n",
              "      <td>1</td>\n",
              "      <td>1</td>\n",
              "      <td>0</td>\n",
              "      <td>1997.0</td>\n",
              "      <td>6.0</td>\n",
              "      <td>2.0</td>\n",
              "      <td>0.0</td>\n",
              "      <td>1.0</td>\n",
              "      <td>0</td>\n",
              "      <td>0</td>\n",
              "      <td>0</td>\n",
              "      <td>1</td>\n",
              "      <td>0</td>\n",
              "      <td>0</td>\n",
              "      <td>0</td>\n",
              "      <td>0</td>\n",
              "      <td>0</td>\n",
              "      <td>0</td>\n",
              "      <td>0</td>\n",
              "      <td>1</td>\n",
              "      <td>0</td>\n",
              "      <td>0</td>\n",
              "      <td>1</td>\n",
              "      <td>0</td>\n",
              "    </tr>\n",
              "  </tbody>\n",
              "</table>\n",
              "</div>"
            ],
            "text/plain": [
              "   registered  viewed  explored  ...  gender_f  gender_m  gender_unk\n",
              "0           1       0         0  ...         0         1           0\n",
              "1           1       1         1  ...         0         1           0\n",
              "2           1       1         0  ...         0         1           0\n",
              "3           1       1         1  ...         0         1           0\n",
              "4           1       1         0  ...         0         1           0\n",
              "\n",
              "[5 rows x 24 columns]"
            ]
          },
          "metadata": {
            "tags": []
          },
          "execution_count": 1251
        }
      ]
    },
    {
      "cell_type": "markdown",
      "metadata": {
        "id": "e9s8jklPf8b9"
      },
      "source": [
        "# Model Training and Evaluation"
      ]
    },
    {
      "cell_type": "markdown",
      "metadata": {
        "id": "Ec7xSEx7pK5h"
      },
      "source": [
        "To train the models, I split the train data using train_test_split, to get both a train and validation dataset."
      ]
    },
    {
      "cell_type": "code",
      "metadata": {
        "id": "0_iLW3FOgEDW"
      },
      "source": [
        "from sklearn.model_selection import train_test_split\n",
        "\n",
        "train_data, validation_data = train_test_split(edx_data, test_size=0.2, random_state=1)"
      ],
      "execution_count": null,
      "outputs": []
    },
    {
      "cell_type": "markdown",
      "metadata": {
        "id": "lIU8ioMRpaW_"
      },
      "source": [
        "## Decision Tree Classifier\n",
        "\n",
        "I started out with the decision tree classifier, testing with a small tree of max depth 2, mid-sized tree with max depth 5, and big tree with max depth 10. Out of these three models, the mid-sized tree with max depth 6 resulted in the best validation data accuracy. As mentioned above, I then reselected and commented out two additional features 'final_cc_cname_DI' and 'LoE_DI', which increased the validation accuracy for the mid-sized tree."
      ]
    },
    {
      "cell_type": "code",
      "metadata": {
        "id": "ZQ3Rn5mJsBMI",
        "colab": {
          "base_uri": "https://localhost:8080/",
          "height": 123
        },
        "outputId": "4f5ec29a-78d6-4fcb-b445-d942c6eaa1aa"
      },
      "source": [
        "from sklearn.tree import DecisionTreeClassifier\n",
        "# mid sized tree\n",
        "decision_tree_model = DecisionTreeClassifier(max_depth=5, random_state=1)\n",
        "decision_tree_model.fit(train_data[features], train_data[target])\n",
        "\n",
        "# small tree\n",
        "from sklearn import tree\n",
        "small_tree_model = DecisionTreeClassifier(max_depth=2, random_state=1)\n",
        "small_tree_model.fit(train_data[features], train_data[target])\n",
        "\n",
        "# big tree\n",
        "big_tree_model = DecisionTreeClassifier(max_depth=10, random_state=1)\n",
        "big_tree_model.fit(train_data[features], train_data[target])"
      ],
      "execution_count": null,
      "outputs": [
        {
          "output_type": "execute_result",
          "data": {
            "text/plain": [
              "DecisionTreeClassifier(ccp_alpha=0.0, class_weight=None, criterion='gini',\n",
              "                       max_depth=10, max_features=None, max_leaf_nodes=None,\n",
              "                       min_impurity_decrease=0.0, min_impurity_split=None,\n",
              "                       min_samples_leaf=1, min_samples_split=2,\n",
              "                       min_weight_fraction_leaf=0.0, presort='deprecated',\n",
              "                       random_state=1, splitter='best')"
            ]
          },
          "metadata": {
            "tags": []
          },
          "execution_count": 1253
        }
      ]
    },
    {
      "cell_type": "code",
      "metadata": {
        "id": "kBYz2o5ssdMJ",
        "colab": {
          "base_uri": "https://localhost:8080/",
          "height": 52
        },
        "outputId": "4a6be04e-22e8-4388-fedf-a35e54419b9d"
      },
      "source": [
        "from sklearn.metrics import accuracy_score\n",
        "\n",
        "# small tree accuracy comparison\n",
        "small_tree_val_prediction = small_tree_model.predict(validation_data[features])\n",
        "small_tree_train_prediction = small_tree_model.predict(train_data[features])\n",
        "small_tree_val_acc = accuracy_score(small_tree_val_prediction, validation_data[target])\n",
        "small_tree_train_acc = accuracy_score(small_tree_train_prediction, train_data[target])\n",
        "\n",
        "print(\"small tree validation accuracy:\", small_tree_val_acc)\n",
        "print(\"small tree training accuracy:\", small_tree_train_acc)"
      ],
      "execution_count": null,
      "outputs": [
        {
          "output_type": "stream",
          "text": [
            "small tree validation accuracy: 0.9503424657534246\n",
            "small tree training accuracy: 0.9511846988295747\n"
          ],
          "name": "stdout"
        }
      ]
    },
    {
      "cell_type": "code",
      "metadata": {
        "id": "iSx6TQXdsgq4",
        "colab": {
          "base_uri": "https://localhost:8080/",
          "height": 52
        },
        "outputId": "2754461e-6593-4df0-ffd2-f766b26d97af"
      },
      "source": [
        "# mid sized tree accuracy comparison\n",
        "decision_tree_val_prediction = decision_tree_model.predict(validation_data[features])\n",
        "decision_tree_train_prediction = decision_tree_model.predict(train_data[features])\n",
        "decision_tree_val_acc = accuracy_score(decision_tree_val_prediction, validation_data[target])\n",
        "decision_tree_train_acc = accuracy_score(decision_tree_train_prediction, train_data[target])\n",
        "\n",
        "print(\"decision tree validation accuracy:\", decision_tree_val_acc)\n",
        "print(\"decision tree training accuracy:\", decision_tree_train_acc)"
      ],
      "execution_count": null,
      "outputs": [
        {
          "output_type": "stream",
          "text": [
            "decision tree validation accuracy: 0.9714611872146118\n",
            "decision tree training accuracy: 0.9737367970311162\n"
          ],
          "name": "stdout"
        }
      ]
    },
    {
      "cell_type": "code",
      "metadata": {
        "id": "Wi6pl5SqsouO",
        "colab": {
          "base_uri": "https://localhost:8080/",
          "height": 52
        },
        "outputId": "dbfdad5f-281b-45f0-bb2a-c5f3546216b4"
      },
      "source": [
        "# big tree accuracy comparison\n",
        "big_tree_val_prediction = big_tree_model.predict(validation_data[features])\n",
        "big_tree_train_prediction = big_tree_model.predict(train_data[features])\n",
        "big_tree_val_acc = accuracy_score(big_tree_val_prediction, validation_data[target])\n",
        "big_tree_train_acc = accuracy_score(big_tree_train_prediction, train_data[target])\n",
        "\n",
        "print(\"big tree validation accuracy:\", big_tree_val_acc)\n",
        "print(\"big tree training accuracy:\", big_tree_train_acc)"
      ],
      "execution_count": null,
      "outputs": [
        {
          "output_type": "stream",
          "text": [
            "big tree validation accuracy: 0.9731735159817352\n",
            "big tree training accuracy: 0.9915786468741079\n"
          ],
          "name": "stdout"
        }
      ]
    },
    {
      "cell_type": "markdown",
      "metadata": {
        "id": "cLn6L2_-rWR4"
      },
      "source": [
        "## Exporting Test Prediction for Decision Tree Classifier"
      ]
    },
    {
      "cell_type": "markdown",
      "metadata": {
        "id": "35wcV1xIrsSc"
      },
      "source": [
        "I processed the test data in the same way as the training/validation data to prepare for getting model predictions."
      ]
    },
    {
      "cell_type": "code",
      "metadata": {
        "id": "TWgJTO28A74M",
        "colab": {
          "base_uri": "https://localhost:8080/",
          "height": 251
        },
        "outputId": "4b24e37b-5208-4f65-a21f-175e648ce283"
      },
      "source": [
        "target = 'certified'                   # prediction target (y) (+1 means certified, -1 is not certified)\n",
        "\n",
        "# Extract the feature columns and target column\n",
        "edx_id = edx_test[['userid_DI']]\n",
        "edx_test = pd.get_dummies(edx_test)\n",
        "edx_test = edx_test[features]\n",
        "edx_test.head()"
      ],
      "execution_count": null,
      "outputs": [
        {
          "output_type": "execute_result",
          "data": {
            "text/html": [
              "<div>\n",
              "<style scoped>\n",
              "    .dataframe tbody tr th:only-of-type {\n",
              "        vertical-align: middle;\n",
              "    }\n",
              "\n",
              "    .dataframe tbody tr th {\n",
              "        vertical-align: top;\n",
              "    }\n",
              "\n",
              "    .dataframe thead th {\n",
              "        text-align: right;\n",
              "    }\n",
              "</style>\n",
              "<table border=\"1\" class=\"dataframe\">\n",
              "  <thead>\n",
              "    <tr style=\"text-align: right;\">\n",
              "      <th></th>\n",
              "      <th>registered</th>\n",
              "      <th>viewed</th>\n",
              "      <th>explored</th>\n",
              "      <th>YoB</th>\n",
              "      <th>nevents</th>\n",
              "      <th>ndays_act</th>\n",
              "      <th>nplay_video</th>\n",
              "      <th>nchapters</th>\n",
              "      <th>nforum_posts</th>\n",
              "      <th>course_id_HarvardX/CB22x/2013_Spring</th>\n",
              "      <th>course_id_HarvardX/CS50x/2012</th>\n",
              "      <th>course_id_HarvardX/ER22x/2013_Spring</th>\n",
              "      <th>course_id_HarvardX/PH207x/2012_Fall</th>\n",
              "      <th>course_id_HarvardX/PH278x/2013_Spring</th>\n",
              "      <th>LoE_DI_Bachelor's</th>\n",
              "      <th>LoE_DI_Doctorate</th>\n",
              "      <th>LoE_DI_Less than Secondary</th>\n",
              "      <th>LoE_DI_Master's</th>\n",
              "      <th>LoE_DI_Secondary</th>\n",
              "      <th>LoE_DI_unk</th>\n",
              "      <th>gender_f</th>\n",
              "      <th>gender_m</th>\n",
              "      <th>gender_unk</th>\n",
              "    </tr>\n",
              "  </thead>\n",
              "  <tbody>\n",
              "    <tr>\n",
              "      <th>0</th>\n",
              "      <td>1</td>\n",
              "      <td>0</td>\n",
              "      <td>0</td>\n",
              "      <td>1977</td>\n",
              "      <td>2</td>\n",
              "      <td>2</td>\n",
              "      <td>0</td>\n",
              "      <td>0</td>\n",
              "      <td>0</td>\n",
              "      <td>1</td>\n",
              "      <td>0</td>\n",
              "      <td>0</td>\n",
              "      <td>0</td>\n",
              "      <td>0</td>\n",
              "      <td>1</td>\n",
              "      <td>0</td>\n",
              "      <td>0</td>\n",
              "      <td>0</td>\n",
              "      <td>0</td>\n",
              "      <td>0</td>\n",
              "      <td>0</td>\n",
              "      <td>1</td>\n",
              "      <td>0</td>\n",
              "    </tr>\n",
              "    <tr>\n",
              "      <th>1</th>\n",
              "      <td>1</td>\n",
              "      <td>1</td>\n",
              "      <td>1</td>\n",
              "      <td>1979</td>\n",
              "      <td>736</td>\n",
              "      <td>23</td>\n",
              "      <td>0</td>\n",
              "      <td>19</td>\n",
              "      <td>0</td>\n",
              "      <td>0</td>\n",
              "      <td>0</td>\n",
              "      <td>1</td>\n",
              "      <td>0</td>\n",
              "      <td>0</td>\n",
              "      <td>0</td>\n",
              "      <td>0</td>\n",
              "      <td>0</td>\n",
              "      <td>1</td>\n",
              "      <td>0</td>\n",
              "      <td>0</td>\n",
              "      <td>0</td>\n",
              "      <td>1</td>\n",
              "      <td>0</td>\n",
              "    </tr>\n",
              "    <tr>\n",
              "      <th>2</th>\n",
              "      <td>1</td>\n",
              "      <td>1</td>\n",
              "      <td>0</td>\n",
              "      <td>1984</td>\n",
              "      <td>377</td>\n",
              "      <td>7</td>\n",
              "      <td>49</td>\n",
              "      <td>4</td>\n",
              "      <td>0</td>\n",
              "      <td>0</td>\n",
              "      <td>0</td>\n",
              "      <td>0</td>\n",
              "      <td>1</td>\n",
              "      <td>0</td>\n",
              "      <td>0</td>\n",
              "      <td>0</td>\n",
              "      <td>0</td>\n",
              "      <td>1</td>\n",
              "      <td>0</td>\n",
              "      <td>0</td>\n",
              "      <td>1</td>\n",
              "      <td>0</td>\n",
              "      <td>0</td>\n",
              "    </tr>\n",
              "    <tr>\n",
              "      <th>3</th>\n",
              "      <td>1</td>\n",
              "      <td>0</td>\n",
              "      <td>0</td>\n",
              "      <td>1986</td>\n",
              "      <td>1</td>\n",
              "      <td>1</td>\n",
              "      <td>0</td>\n",
              "      <td>0</td>\n",
              "      <td>0</td>\n",
              "      <td>0</td>\n",
              "      <td>0</td>\n",
              "      <td>0</td>\n",
              "      <td>0</td>\n",
              "      <td>1</td>\n",
              "      <td>1</td>\n",
              "      <td>0</td>\n",
              "      <td>0</td>\n",
              "      <td>0</td>\n",
              "      <td>0</td>\n",
              "      <td>0</td>\n",
              "      <td>1</td>\n",
              "      <td>0</td>\n",
              "      <td>0</td>\n",
              "    </tr>\n",
              "    <tr>\n",
              "      <th>4</th>\n",
              "      <td>1</td>\n",
              "      <td>1</td>\n",
              "      <td>0</td>\n",
              "      <td>1978</td>\n",
              "      <td>122</td>\n",
              "      <td>5</td>\n",
              "      <td>0</td>\n",
              "      <td>3</td>\n",
              "      <td>0</td>\n",
              "      <td>1</td>\n",
              "      <td>0</td>\n",
              "      <td>0</td>\n",
              "      <td>0</td>\n",
              "      <td>0</td>\n",
              "      <td>1</td>\n",
              "      <td>0</td>\n",
              "      <td>0</td>\n",
              "      <td>0</td>\n",
              "      <td>0</td>\n",
              "      <td>0</td>\n",
              "      <td>1</td>\n",
              "      <td>0</td>\n",
              "      <td>0</td>\n",
              "    </tr>\n",
              "  </tbody>\n",
              "</table>\n",
              "</div>"
            ],
            "text/plain": [
              "   registered  viewed  explored  ...  gender_f  gender_m  gender_unk\n",
              "0           1       0         0  ...         0         1           0\n",
              "1           1       1         1  ...         0         1           0\n",
              "2           1       1         0  ...         1         0           0\n",
              "3           1       0         0  ...         1         0           0\n",
              "4           1       1         0  ...         1         0           0\n",
              "\n",
              "[5 rows x 23 columns]"
            ]
          },
          "metadata": {
            "tags": []
          },
          "execution_count": 1257
        }
      ]
    },
    {
      "cell_type": "markdown",
      "metadata": {
        "id": "x0fE__dvr_F0"
      },
      "source": [
        "I used the models to predict on the test data and exported and downloaded the files as .csv (I commented out the files.download() line to avoid excessive downloading every time the code is run)."
      ]
    },
    {
      "cell_type": "code",
      "metadata": {
        "id": "RyrTYOco0gXs"
      },
      "source": [
        "from google.colab import files\n",
        "decision_tree_pred = decision_tree_model.predict(edx_test[features])\n",
        "decision_tree_test_predictions = edx_id.copy() # edx_test[['userid_DI']].copy()\n",
        "decision_tree_test_predictions.loc[:, target] = decision_tree_pred\n",
        "decision_tree_test_predictions.to_csv('submission.csv', index = False)\n",
        "# files.download('submission.csv')\n",
        "\n",
        "small_tree_pred = small_tree_model.predict(edx_test[features])\n",
        "small_tree_test_predictions = edx_id.copy() # edx_test[['userid_DI']].copy()\n",
        "small_tree_test_predictions.loc[:, target] = small_tree_pred\n",
        "small_tree_test_predictions.to_csv('small_tree_submission.csv', index = False)\n",
        "# files.download('small_tree_submission.csv')\n",
        "\n",
        "big_tree_pred = big_tree_model.predict(edx_test[features])\n",
        "big_tree_test_predictions = edx_id.copy() # edx_test[['userid_DI']].copy()\n",
        "big_tree_test_predictions.loc[:, target] = big_tree_pred\n",
        "big_tree_test_predictions.to_csv('big_tree_submission.csv', index = False)\n",
        "# files.download('big_tree_submission.csv')\n"
      ],
      "execution_count": null,
      "outputs": []
    },
    {
      "cell_type": "markdown",
      "metadata": {
        "id": "EPSqT6pRsdJE"
      },
      "source": [
        "## Grid Search"
      ]
    },
    {
      "cell_type": "markdown",
      "metadata": {
        "id": "XoCGVe3nmJcS"
      },
      "source": [
        "I performed a grid search that resulted in a max depth of 5 and min_samples_leaf of 1 to find the best fit. However, ultimately I decided not to use this information to attempt any more decision trees but rather explore other classification models (below)."
      ]
    },
    {
      "cell_type": "code",
      "metadata": {
        "id": "D2DJodrgZ7Kw",
        "colab": {
          "base_uri": "https://localhost:8080/",
          "height": 34
        },
        "outputId": "c362c207-07f7-405a-fb22-c803e3fa1503"
      },
      "source": [
        "# TODO\n",
        "from sklearn.model_selection import GridSearchCV\n",
        "hyperparameters = {\n",
        "            'min_samples_leaf': [1, 10, 50, 100, 200, 300],\n",
        "            'max_depth': [1, 5, 10, 15, 20]\n",
        "            }\n",
        "\n",
        "search = GridSearchCV(estimator=DecisionTreeClassifier(random_state=1), param_grid=hyperparameters,cv=6, return_train_score=True)\n",
        "search.fit(train_data[features], train_data[target])\n",
        "search.best_params_"
      ],
      "execution_count": null,
      "outputs": [
        {
          "output_type": "execute_result",
          "data": {
            "text/plain": [
              "{'max_depth': 10, 'min_samples_leaf': 10}"
            ]
          },
          "metadata": {
            "tags": []
          },
          "execution_count": 1259
        }
      ]
    },
    {
      "cell_type": "code",
      "metadata": {
        "id": "ZO7wnwHdaYuC",
        "colab": {
          "base_uri": "https://localhost:8080/",
          "height": 411
        },
        "outputId": "ddb89502-533c-48d1-d598-4761506a0a2e"
      },
      "source": [
        "def plot_scores(ax, title, search, hyperparameters, score_key):\n",
        "    cv_results = search.cv_results_\n",
        "    scores = cv_results[score_key]\n",
        "    scores = scores.reshape((len(hyperparameters['max_depth']), len(hyperparameters['min_samples_leaf'])))\n",
        "    max_depths = cv_results['param_max_depth'].reshape(scores.shape).data.astype(int)\n",
        "    min_samples_leafs = cv_results['param_min_samples_leaf'].reshape(scores.shape).data.astype(int)\n",
        "    \n",
        "    ax.plot_wireframe(max_depths, min_samples_leafs, scores)\n",
        "    ax.view_init(20, 220)\n",
        "    ax.set_xlabel('Maximum Depth')\n",
        "    ax.set_ylabel('Minimum Samples Leaf')\n",
        "    ax.set_zlabel('Accuracy')\n",
        "    ax.set_title(title)\n",
        "\n",
        "\n",
        "fig = plt.figure(figsize=(15,7))\n",
        "ax1 = fig.add_subplot(121, projection='3d')\n",
        "ax2 = fig.add_subplot(122, projection='3d')\n",
        "\n",
        "plot_scores(ax1, 'Train Accuracy', search, hyperparameters, 'mean_train_score')\n",
        "plot_scores(ax2, 'Validation Accuracy', search, hyperparameters, 'mean_test_score')"
      ],
      "execution_count": null,
      "outputs": [
        {
          "output_type": "display_data",
          "data": {
            "image/png": "[encoded data removed]",
            "text/plain": [
              "<Figure size 1080x504 with 2 Axes>"
            ]
          },
          "metadata": {
            "tags": []
          }
        }
      ]
    },
    {
      "cell_type": "markdown",
      "metadata": {
        "id": "fpAsXhpiQH-p"
      },
      "source": [
        "## Random Forest\n",
        "For my next three models, I chose Random Forest, AdaBoost, and KNN. After running all three of these models (below) I found that the best validation accuracy out of every model I tried was Random Forest. Afterward, I tuned the features and hyperparameters that resulted in the best possible validation accuracy."
      ]
    },
    {
      "cell_type": "code",
      "metadata": {
        "id": "ZyhDf1JoQHml",
        "colab": {
          "base_uri": "https://localhost:8080/",
          "height": 158
        },
        "outputId": "85a4d4d7-49c9-4f56-cc32-69e97c9605d0"
      },
      "source": [
        "from sklearn.ensemble import RandomForestClassifier\n",
        "\n",
        "rfc = RandomForestClassifier(max_depth=25, random_state=1)\n",
        "rfc.fit(train_data[features], train_data[target])"
      ],
      "execution_count": null,
      "outputs": [
        {
          "output_type": "execute_result",
          "data": {
            "text/plain": [
              "RandomForestClassifier(bootstrap=True, ccp_alpha=0.0, class_weight=None,\n",
              "                       criterion='gini', max_depth=25, max_features='auto',\n",
              "                       max_leaf_nodes=None, max_samples=None,\n",
              "                       min_impurity_decrease=0.0, min_impurity_split=None,\n",
              "                       min_samples_leaf=1, min_samples_split=2,\n",
              "                       min_weight_fraction_leaf=0.0, n_estimators=100,\n",
              "                       n_jobs=None, oob_score=False, random_state=1, verbose=0,\n",
              "                       warm_start=False)"
            ]
          },
          "metadata": {
            "tags": []
          },
          "execution_count": 1261
        }
      ]
    },
    {
      "cell_type": "code",
      "metadata": {
        "id": "bXprmHKCRAce",
        "colab": {
          "base_uri": "https://localhost:8080/",
          "height": 52
        },
        "outputId": "95257da5-2a9e-4569-b7c0-c957ef20c8ac"
      },
      "source": [
        "rfc_val_prediction = rfc.predict(validation_data[features])\n",
        "rfc_train_prediction = rfc.predict(train_data[features])\n",
        "rfc_val_acc = accuracy_score(rfc_val_prediction, validation_data[target])\n",
        "rfc_train_acc = accuracy_score(rfc_train_prediction, train_data[target])\n",
        "\n",
        "print(\"random forest classifier validation accuracy:\", rfc_val_acc)\n",
        "print(\"random forest classifier training accuracy:\", rfc_train_acc)"
      ],
      "execution_count": null,
      "outputs": [
        {
          "output_type": "stream",
          "text": [
            "random forest classifier validation accuracy: 0.976027397260274\n",
            "random forest classifier training accuracy: 0.9998572652012561\n"
          ],
          "name": "stdout"
        }
      ]
    },
    {
      "cell_type": "code",
      "metadata": {
        "id": "8ds2wKIHR1Y6"
      },
      "source": [
        "rfc_pred = rfc.predict(edx_test[features])\n",
        "rfc_test_predictions = edx_id.copy() # edx_test[['userid_DI']].copy()\n",
        "rfc_test_predictions.loc[:, target] = rfc_pred\n",
        "rfc_test_predictions.to_csv('rfc_submission.csv', index = False)\n",
        "# files.download('rfc_submission.csv')"
      ],
      "execution_count": null,
      "outputs": []
    },
    {
      "cell_type": "markdown",
      "metadata": {
        "id": "jK01FVezS2S1"
      },
      "source": [
        "## AdaBoost"
      ]
    },
    {
      "cell_type": "code",
      "metadata": {
        "id": "XvUsyturS4If",
        "colab": {
          "base_uri": "https://localhost:8080/",
          "height": 52
        },
        "outputId": "dbc3dd70-c6ea-4a60-b868-9c8853d96c6b"
      },
      "source": [
        "from sklearn.ensemble import AdaBoostClassifier\n",
        "adaboost = AdaBoostClassifier(n_estimators=1000, random_state=1)\n",
        "adaboost.fit(train_data[features], train_data[target])"
      ],
      "execution_count": null,
      "outputs": [
        {
          "output_type": "execute_result",
          "data": {
            "text/plain": [
              "AdaBoostClassifier(algorithm='SAMME.R', base_estimator=None, learning_rate=1.0,\n",
              "                   n_estimators=1000, random_state=1)"
            ]
          },
          "metadata": {
            "tags": []
          },
          "execution_count": 1264
        }
      ]
    },
    {
      "cell_type": "code",
      "metadata": {
        "id": "TKHiF3tQTOwf",
        "colab": {
          "base_uri": "https://localhost:8080/",
          "height": 52
        },
        "outputId": "c0f3813a-1e92-4581-b2be-002929359c4f"
      },
      "source": [
        "adaboost_val_prediction = adaboost.predict(validation_data[features])\n",
        "adaboost_train_prediction = adaboost.predict(train_data[features])\n",
        "adaboost_val_acc = accuracy_score(adaboost_val_prediction, validation_data[target])\n",
        "adaboost_train_acc = accuracy_score(adaboost_train_prediction, train_data[target])\n",
        "\n",
        "print(\"adaboost classifier validation accuracy:\", adaboost_val_acc)\n",
        "print(\"adaboost classifier training accuracy:\", adaboost_train_acc)"
      ],
      "execution_count": null,
      "outputs": [
        {
          "output_type": "stream",
          "text": [
            "adaboost classifier validation accuracy: 0.9611872146118722\n",
            "adaboost classifier training accuracy: 0.9703111618612618\n"
          ],
          "name": "stdout"
        }
      ]
    },
    {
      "cell_type": "code",
      "metadata": {
        "id": "hbTszh3WDj38"
      },
      "source": [
        "adaboost_pred = adaboost.predict(edx_test[features])\n",
        "adaboost_test_predictions = edx_id.copy() # edx_test[['userid_DI']].copy()\n",
        "adaboost_test_predictions.loc[:, target] = adaboost_pred\n",
        "adaboost_test_predictions.to_csv('adaboost_submission.csv', index = False)\n",
        "# files.download('adaboost_submission.csv')"
      ],
      "execution_count": null,
      "outputs": []
    },
    {
      "cell_type": "markdown",
      "metadata": {
        "id": "DDs7ZbTEUqpN"
      },
      "source": [
        "## K Nearest Neighbors"
      ]
    },
    {
      "cell_type": "code",
      "metadata": {
        "id": "MkLtH2GYUt7D",
        "colab": {
          "base_uri": "https://localhost:8080/",
          "height": 70
        },
        "outputId": "59df1166-b6aa-4c30-93fd-519fd1c7d6e0"
      },
      "source": [
        "from sklearn.neighbors import KNeighborsClassifier\n",
        "neigh = KNeighborsClassifier(n_neighbors=4)\n",
        "neigh.fit(train_data[features], train_data[target])"
      ],
      "execution_count": null,
      "outputs": [
        {
          "output_type": "execute_result",
          "data": {
            "text/plain": [
              "KNeighborsClassifier(algorithm='auto', leaf_size=30, metric='minkowski',\n",
              "                     metric_params=None, n_jobs=None, n_neighbors=4, p=2,\n",
              "                     weights='uniform')"
            ]
          },
          "metadata": {
            "tags": []
          },
          "execution_count": 1267
        }
      ]
    },
    {
      "cell_type": "code",
      "metadata": {
        "id": "dwtleN9SU6rB",
        "colab": {
          "base_uri": "https://localhost:8080/",
          "height": 52
        },
        "outputId": "fb013719-e22e-45ae-e302-ae40c3934003"
      },
      "source": [
        "neigh_val_prediction = neigh.predict(validation_data[features])\n",
        "neigh_train_prediction = neigh.predict(train_data[features])\n",
        "neigh_val_acc = accuracy_score(neigh_val_prediction, validation_data[target])\n",
        "neigh_train_acc = accuracy_score(neigh_train_prediction, train_data[target])\n",
        "\n",
        "print(\"knn classifier validation accuracy:\", neigh_val_acc)\n",
        "print(\"knn classifier training accuracy:\", neigh_train_acc)"
      ],
      "execution_count": null,
      "outputs": [
        {
          "output_type": "stream",
          "text": [
            "knn classifier validation accuracy: 0.966324200913242\n",
            "knn classifier training accuracy: 0.9701684270625178\n"
          ],
          "name": "stdout"
        }
      ]
    },
    {
      "cell_type": "code",
      "metadata": {
        "id": "QRaqxxYpD1o2"
      },
      "source": [
        "neigh_pred = neigh.predict(edx_test[features])\n",
        "neigh_test_predictions = edx_id.copy() # edx_test[['userid_DI']].copy()\n",
        "neigh_test_predictions.loc[:, target] = neigh_pred\n",
        "neigh_test_predictions.to_csv('neigh_submission.csv', index = False)\n",
        "# files.download('neigh_submission.csv')"
      ],
      "execution_count": null,
      "outputs": []
    },
    {
      "cell_type": "markdown",
      "metadata": {
        "id": "-J5gUFrIof7V"
      },
      "source": [
        "# Plot ROC Curves"
      ]
    },
    {
      "cell_type": "code",
      "metadata": {
        "id": "Z0GPPTn1senI",
        "colab": {
          "base_uri": "https://localhost:8080/",
          "height": 932
        },
        "outputId": "0788e5d2-3dc1-49e1-9fdc-e33dd11fcc76"
      },
      "source": [
        "from sklearn.metrics import roc_curve\n",
        "from matplotlib import pyplot\n",
        "import os\n",
        "\n",
        "# get probabilities\n",
        "ns_probs = [0 for _ in range(len(validation_data))]\n",
        "decision_tree_probs = decision_tree_model.predict_proba(validation_data[features])\n",
        "decision_tree_probs = decision_tree_probs[:, 1]\n",
        "\n",
        "small_tree_probs = small_tree_model.predict_proba(validation_data[features])\n",
        "small_tree_probs = small_tree_probs[:, 1]\n",
        "\n",
        "big_tree_probs = big_tree_model.predict_proba(validation_data[features])\n",
        "big_tree_probs = big_tree_probs[:, 1]\n",
        "\n",
        "rfc_probs = rfc.predict_proba(validation_data[features])\n",
        "rfc_probs = rfc_probs[:, 1]\n",
        "\n",
        "adaboost_probs = adaboost.predict_proba(validation_data[features])\n",
        "adaboost_probs = adaboost_probs[:, 1]\n",
        "\n",
        "knn_probs = neigh.predict_proba(validation_data[features])\n",
        "knn_probs = knn_probs[:, 1]\n",
        "\n",
        "# get roc curves\n",
        "ns_fpr, ns_tpr, _ = roc_curve(validation_data[target], ns_probs)\n",
        "decision_tree_fpr, decision_tree_tpr, _ = roc_curve(validation_data[target], decision_tree_probs)\n",
        "small_tree_fpr, small_tree_tpr, _ = roc_curve(validation_data[target], small_tree_probs)\n",
        "big_tree_fpr, big_tree_tpr, _ = roc_curve(validation_data[target], big_tree_probs)\n",
        "\n",
        "rfc_fpr, rfc_tpr, _ = roc_curve(validation_data[target], rfc_probs)\n",
        "adaboost_fpr, adaboost_tpr, _ = roc_curve(validation_data[target], adaboost_probs)\n",
        "knn_fpr, knn_tpr, _ = roc_curve(validation_data[target], knn_probs)\n",
        "\n",
        "\n",
        "plt.figure(figsize=(15, 15))\n",
        "\n",
        "# plot the roc curve for the model\n",
        "pyplot.plot(ns_fpr, ns_tpr, linestyle='--', label='No Skill')\n",
        "pyplot.plot(decision_tree_fpr, decision_tree_tpr, marker='.', label='Decision Tree, max depth = 5')\n",
        "pyplot.plot(small_tree_fpr, small_tree_tpr, marker='.', label='Small Decision Tree, max depth = 2')\n",
        "# pyplot.plot(big_tree_fpr, big_tree_tpr, marker='.', label='Big Decision Tree')\n",
        "\n",
        "pyplot.plot(rfc_fpr, rfc_tpr, marker='.', label='Random Forest')\n",
        "pyplot.plot(adaboost_fpr, adaboost_tpr, marker='.', label='AdaBoost')\n",
        "pyplot.plot(knn_fpr, knn_tpr, marker='.', label='K Nearest Neighbors')\n",
        "pyplot.title(\"ROC Curves\", fontsize=20)\n",
        "# axis labels\n",
        "pyplot.xlabel('False Positive Rate', fontsize=20)\n",
        "pyplot.ylabel('True Positive Rate', fontsize=20)\n",
        "pyplot.xticks(fontsize=15)\n",
        "pyplot.yticks(fontsize=15)\n",
        "# show the legend\n",
        "pyplot.legend()\n",
        "\n",
        "filename=\"ROC-curves.png\"\n",
        "pyplot.savefig(filename)\n",
        "print(\"Image file saved to \"+os.getcwd()+\"/\"+filename)\n",
        "\n",
        "# show the plot\n",
        "pyplot.show()\n",
        "\n",
        "from google.colab import files\n",
        "# files.download(filename)"
      ],
      "execution_count": null,
      "outputs": [
        {
          "output_type": "stream",
          "text": [
            "Image file saved to /content/ROC-curves.png\n"
          ],
          "name": "stdout"
        },
        {
          "output_type": "display_data",
          "data": {
            "image/png": "[encoded data removed]",
            "text/plain": [
              "<Figure size 1080x1080 with 1 Axes>"
            ]
          },
          "metadata": {
            "tags": []
          }
        }
      ]
    }
  ]
}